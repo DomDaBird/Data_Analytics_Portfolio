{
 "cells": [
  {
   "cell_type": "markdown",
   "metadata": {},
   "source": [
    "## 01: Importieren der notwendigen Bibliotheken"
   ]
  },
  {
   "cell_type": "code",
   "execution_count": 1,
   "metadata": {},
   "outputs": [],
   "source": [
    "import pandas as pd\n",
    "import matplotlib.pyplot as plt\n",
    "import numpy as np\n",
    "import datetime as dt\n",
    "import seaborn as sns "
   ]
  },
  {
   "cell_type": "markdown",
   "metadata": {},
   "source": [
    "## 02: Datensatz laden und erste Übersicht über den Inhalt"
   ]
  },
  {
   "cell_type": "code",
   "execution_count": 2,
   "metadata": {},
   "outputs": [],
   "source": [
    "# Datensatz wurde geladen mit folgenden Funktionen:\n",
    "# df = pd.read_csv(\"URL\")\n",
    "# df.to_csv(\"Name der Datei\", index=False)\n",
    "\n",
    "df = pd.read_csv(\"tiktok_dataset.csv\")"
   ]
  },
  {
   "cell_type": "markdown",
   "metadata": {},
   "source": [
    "| Name der Spalte            | Typ   | Beschreibung                                                                                                                                                                                                                                                                                                        |\n",
    "|----------------------------|-------|---------------------------------------------------------------------------------------------------------------------------------------------------------------------------------------------------------------------------------------------------------------------------------------------------------------------|\n",
    "| #                          | int   | Von TikTok zugewiesene Nummer für Video mit Anspruch/Meinung.                                                                                                                                                                                                                                                       |\n",
    "| claim_status               | obj   | Ob das veröffentlichte Video als \"Meinung\" oder als \"Behauptung\" identifiziert wurde. In diesem Datensatz bezieht sich eine \"Meinung\" auf die persönliche Überzeugung einer Person oder Gruppe. Eine \"Behauptung\" bezieht sich auf Informationen, die entweder ohne Quellenangabe oder von einer nicht verifizierten Quelle stammen.                 |\n",
    "| video_id                   | int   | Zufällige Identifikationsnummer, die dem Video bei der Veröffentlichung auf TikTok zugewiesen wird.                                                                                                                                                                                                                  |\n",
    "| video_dauer_sec            | int   | Die Länge des veröffentlichten Videos in Sekunden.                                                                                                                                                                                                                                                                   |\n",
    "| video_transkription_text   | obj   | Transkribierter Text der Worte, die in dem veröffentlichten Video gesprochen werden.                                                                                                                                                                                                                                 |\n",
    "| verifiziert_status         | obj   | Gibt den Status des TikTok-Benutzers, der das Video veröffentlicht hat, in Bezug auf seine Verifizierung an, entweder \"verifiziert\" oder \"nicht verifiziert\".                                                                                                                                                         |\n",
    "| autor_verbot_status        | obj   | Zeigt den Status des TikTok-Benutzers, der das Video veröffentlicht hat, in Bezug auf seine Berechtigungen an: \"aktiv\", \"unter Beobachtung\" oder \"gesperrt\".                                                                                                                                                         |\n",
    "| video_view_count           | float | Die Gesamtzahl, wie oft das veröffentlichte Video angesehen wurde.                                                                                                                                                                                                                                                  |\n",
    "| video_like_count           | float | Die Gesamtzahl, wie oft das veröffentlichte Video von anderen Benutzern geliked wurde.                                                                                                                                                                                                                               |\n",
    "| video_share_count          | float | Die Gesamtzahl, wie oft das veröffentlichte Video von anderen Nutzern geteilt wurde.                                                                                                                                                                                                                                |\n",
    "| video_download_count       | float | Die Gesamtzahl, wie oft das veröffentlichte Video von anderen Nutzern heruntergeladen wurde.                                                                                                                                                                                                                        |\n",
    "| video_kommentar_zählung    | float | Die Gesamtzahl der Kommentare zu dem veröffentlichten Video.                                                                                                                                                                                                                                                        |\n"
   ]
  },
  {
   "cell_type": "code",
   "execution_count": 3,
   "metadata": {},
   "outputs": [
    {
     "data": {
      "text/html": [
       "<div>\n",
       "<style scoped>\n",
       "    .dataframe tbody tr th:only-of-type {\n",
       "        vertical-align: middle;\n",
       "    }\n",
       "\n",
       "    .dataframe tbody tr th {\n",
       "        vertical-align: top;\n",
       "    }\n",
       "\n",
       "    .dataframe thead th {\n",
       "        text-align: right;\n",
       "    }\n",
       "</style>\n",
       "<table border=\"1\" class=\"dataframe\">\n",
       "  <thead>\n",
       "    <tr style=\"text-align: right;\">\n",
       "      <th></th>\n",
       "      <th>#</th>\n",
       "      <th>claim_status</th>\n",
       "      <th>video_id</th>\n",
       "      <th>video_duration_sec</th>\n",
       "      <th>video_transcription_text</th>\n",
       "      <th>verified_status</th>\n",
       "      <th>author_ban_status</th>\n",
       "      <th>video_view_count</th>\n",
       "      <th>video_like_count</th>\n",
       "      <th>video_share_count</th>\n",
       "      <th>video_download_count</th>\n",
       "      <th>video_comment_count</th>\n",
       "    </tr>\n",
       "  </thead>\n",
       "  <tbody>\n",
       "    <tr>\n",
       "      <th>0</th>\n",
       "      <td>1</td>\n",
       "      <td>claim</td>\n",
       "      <td>7017666017</td>\n",
       "      <td>59</td>\n",
       "      <td>someone shared with me that drone deliveries a...</td>\n",
       "      <td>not verified</td>\n",
       "      <td>under review</td>\n",
       "      <td>343296.0</td>\n",
       "      <td>19425.0</td>\n",
       "      <td>241.0</td>\n",
       "      <td>1.0</td>\n",
       "      <td>0.0</td>\n",
       "    </tr>\n",
       "    <tr>\n",
       "      <th>1</th>\n",
       "      <td>2</td>\n",
       "      <td>claim</td>\n",
       "      <td>4014381136</td>\n",
       "      <td>32</td>\n",
       "      <td>someone shared with me that there are more mic...</td>\n",
       "      <td>not verified</td>\n",
       "      <td>active</td>\n",
       "      <td>140877.0</td>\n",
       "      <td>77355.0</td>\n",
       "      <td>19034.0</td>\n",
       "      <td>1161.0</td>\n",
       "      <td>684.0</td>\n",
       "    </tr>\n",
       "    <tr>\n",
       "      <th>2</th>\n",
       "      <td>3</td>\n",
       "      <td>claim</td>\n",
       "      <td>9859838091</td>\n",
       "      <td>31</td>\n",
       "      <td>someone shared with me that american industria...</td>\n",
       "      <td>not verified</td>\n",
       "      <td>active</td>\n",
       "      <td>902185.0</td>\n",
       "      <td>97690.0</td>\n",
       "      <td>2858.0</td>\n",
       "      <td>833.0</td>\n",
       "      <td>329.0</td>\n",
       "    </tr>\n",
       "    <tr>\n",
       "      <th>3</th>\n",
       "      <td>4</td>\n",
       "      <td>claim</td>\n",
       "      <td>1866847991</td>\n",
       "      <td>25</td>\n",
       "      <td>someone shared with me that the metro of st. p...</td>\n",
       "      <td>not verified</td>\n",
       "      <td>active</td>\n",
       "      <td>437506.0</td>\n",
       "      <td>239954.0</td>\n",
       "      <td>34812.0</td>\n",
       "      <td>1234.0</td>\n",
       "      <td>584.0</td>\n",
       "    </tr>\n",
       "    <tr>\n",
       "      <th>4</th>\n",
       "      <td>5</td>\n",
       "      <td>claim</td>\n",
       "      <td>7105231098</td>\n",
       "      <td>19</td>\n",
       "      <td>someone shared with me that the number of busi...</td>\n",
       "      <td>not verified</td>\n",
       "      <td>active</td>\n",
       "      <td>56167.0</td>\n",
       "      <td>34987.0</td>\n",
       "      <td>4110.0</td>\n",
       "      <td>547.0</td>\n",
       "      <td>152.0</td>\n",
       "    </tr>\n",
       "  </tbody>\n",
       "</table>\n",
       "</div>"
      ],
      "text/plain": [
       "   # claim_status    video_id  video_duration_sec  \\\n",
       "0  1        claim  7017666017                  59   \n",
       "1  2        claim  4014381136                  32   \n",
       "2  3        claim  9859838091                  31   \n",
       "3  4        claim  1866847991                  25   \n",
       "4  5        claim  7105231098                  19   \n",
       "\n",
       "                            video_transcription_text verified_status  \\\n",
       "0  someone shared with me that drone deliveries a...    not verified   \n",
       "1  someone shared with me that there are more mic...    not verified   \n",
       "2  someone shared with me that american industria...    not verified   \n",
       "3  someone shared with me that the metro of st. p...    not verified   \n",
       "4  someone shared with me that the number of busi...    not verified   \n",
       "\n",
       "  author_ban_status  video_view_count  video_like_count  video_share_count  \\\n",
       "0      under review          343296.0           19425.0              241.0   \n",
       "1            active          140877.0           77355.0            19034.0   \n",
       "2            active          902185.0           97690.0             2858.0   \n",
       "3            active          437506.0          239954.0            34812.0   \n",
       "4            active           56167.0           34987.0             4110.0   \n",
       "\n",
       "   video_download_count  video_comment_count  \n",
       "0                   1.0                  0.0  \n",
       "1                1161.0                684.0  \n",
       "2                 833.0                329.0  \n",
       "3                1234.0                584.0  \n",
       "4                 547.0                152.0  "
      ]
     },
     "execution_count": 3,
     "metadata": {},
     "output_type": "execute_result"
    }
   ],
   "source": [
    "df.head()"
   ]
  },
  {
   "cell_type": "code",
   "execution_count": 4,
   "metadata": {},
   "outputs": [
    {
     "data": {
      "text/html": [
       "<div>\n",
       "<style scoped>\n",
       "    .dataframe tbody tr th:only-of-type {\n",
       "        vertical-align: middle;\n",
       "    }\n",
       "\n",
       "    .dataframe tbody tr th {\n",
       "        vertical-align: top;\n",
       "    }\n",
       "\n",
       "    .dataframe thead th {\n",
       "        text-align: right;\n",
       "    }\n",
       "</style>\n",
       "<table border=\"1\" class=\"dataframe\">\n",
       "  <thead>\n",
       "    <tr style=\"text-align: right;\">\n",
       "      <th></th>\n",
       "      <th>#</th>\n",
       "      <th>claim_status</th>\n",
       "      <th>video_id</th>\n",
       "      <th>video_duration_sec</th>\n",
       "      <th>video_transcription_text</th>\n",
       "      <th>verified_status</th>\n",
       "      <th>author_ban_status</th>\n",
       "      <th>video_view_count</th>\n",
       "      <th>video_like_count</th>\n",
       "      <th>video_share_count</th>\n",
       "      <th>video_download_count</th>\n",
       "      <th>video_comment_count</th>\n",
       "    </tr>\n",
       "  </thead>\n",
       "  <tbody>\n",
       "    <tr>\n",
       "      <th>5542</th>\n",
       "      <td>5543</td>\n",
       "      <td>claim</td>\n",
       "      <td>8374141529</td>\n",
       "      <td>20</td>\n",
       "      <td>i read  in a discussion board that mercury &amp; v...</td>\n",
       "      <td>not verified</td>\n",
       "      <td>active</td>\n",
       "      <td>600881.0</td>\n",
       "      <td>242444.0</td>\n",
       "      <td>37673.0</td>\n",
       "      <td>2354.0</td>\n",
       "      <td>162.0</td>\n",
       "    </tr>\n",
       "    <tr>\n",
       "      <th>6969</th>\n",
       "      <td>6970</td>\n",
       "      <td>claim</td>\n",
       "      <td>2075564626</td>\n",
       "      <td>15</td>\n",
       "      <td>a colleague read  on social media a claim that...</td>\n",
       "      <td>not verified</td>\n",
       "      <td>active</td>\n",
       "      <td>791012.0</td>\n",
       "      <td>400197.0</td>\n",
       "      <td>1889.0</td>\n",
       "      <td>5332.0</td>\n",
       "      <td>1631.0</td>\n",
       "    </tr>\n",
       "    <tr>\n",
       "      <th>17913</th>\n",
       "      <td>17914</td>\n",
       "      <td>opinion</td>\n",
       "      <td>6114104223</td>\n",
       "      <td>27</td>\n",
       "      <td>my friends are willing to bet that our sense o...</td>\n",
       "      <td>not verified</td>\n",
       "      <td>active</td>\n",
       "      <td>795.0</td>\n",
       "      <td>127.0</td>\n",
       "      <td>26.0</td>\n",
       "      <td>3.0</td>\n",
       "      <td>0.0</td>\n",
       "    </tr>\n",
       "    <tr>\n",
       "      <th>4362</th>\n",
       "      <td>4363</td>\n",
       "      <td>claim</td>\n",
       "      <td>9890716489</td>\n",
       "      <td>51</td>\n",
       "      <td>someone read  in the media that the longest re...</td>\n",
       "      <td>not verified</td>\n",
       "      <td>active</td>\n",
       "      <td>250493.0</td>\n",
       "      <td>154067.0</td>\n",
       "      <td>52380.0</td>\n",
       "      <td>1669.0</td>\n",
       "      <td>1089.0</td>\n",
       "    </tr>\n",
       "    <tr>\n",
       "      <th>17786</th>\n",
       "      <td>17787</td>\n",
       "      <td>opinion</td>\n",
       "      <td>9668131015</td>\n",
       "      <td>20</td>\n",
       "      <td>my friends are willing to wager that the most ...</td>\n",
       "      <td>not verified</td>\n",
       "      <td>active</td>\n",
       "      <td>8670.0</td>\n",
       "      <td>3740.0</td>\n",
       "      <td>187.0</td>\n",
       "      <td>42.0</td>\n",
       "      <td>2.0</td>\n",
       "    </tr>\n",
       "    <tr>\n",
       "      <th>4863</th>\n",
       "      <td>4864</td>\n",
       "      <td>claim</td>\n",
       "      <td>3455876455</td>\n",
       "      <td>18</td>\n",
       "      <td>i learned  in a discussion board a claim that ...</td>\n",
       "      <td>not verified</td>\n",
       "      <td>active</td>\n",
       "      <td>473296.0</td>\n",
       "      <td>54409.0</td>\n",
       "      <td>164.0</td>\n",
       "      <td>584.0</td>\n",
       "      <td>138.0</td>\n",
       "    </tr>\n",
       "    <tr>\n",
       "      <th>13119</th>\n",
       "      <td>13120</td>\n",
       "      <td>opinion</td>\n",
       "      <td>2312102478</td>\n",
       "      <td>50</td>\n",
       "      <td>our position is that no two tongue prints are ...</td>\n",
       "      <td>verified</td>\n",
       "      <td>active</td>\n",
       "      <td>5850.0</td>\n",
       "      <td>2307.0</td>\n",
       "      <td>275.0</td>\n",
       "      <td>55.0</td>\n",
       "      <td>17.0</td>\n",
       "    </tr>\n",
       "    <tr>\n",
       "      <th>1817</th>\n",
       "      <td>1818</td>\n",
       "      <td>claim</td>\n",
       "      <td>8503633294</td>\n",
       "      <td>25</td>\n",
       "      <td>a friend learned  in the media a claim that th...</td>\n",
       "      <td>not verified</td>\n",
       "      <td>active</td>\n",
       "      <td>241461.0</td>\n",
       "      <td>31455.0</td>\n",
       "      <td>1952.0</td>\n",
       "      <td>487.0</td>\n",
       "      <td>163.0</td>\n",
       "    </tr>\n",
       "    <tr>\n",
       "      <th>18171</th>\n",
       "      <td>18172</td>\n",
       "      <td>opinion</td>\n",
       "      <td>1622800427</td>\n",
       "      <td>55</td>\n",
       "      <td>my family is willing to bet that 4 of the top ...</td>\n",
       "      <td>not verified</td>\n",
       "      <td>active</td>\n",
       "      <td>4363.0</td>\n",
       "      <td>1050.0</td>\n",
       "      <td>255.0</td>\n",
       "      <td>20.0</td>\n",
       "      <td>4.0</td>\n",
       "    </tr>\n",
       "    <tr>\n",
       "      <th>17113</th>\n",
       "      <td>17114</td>\n",
       "      <td>opinion</td>\n",
       "      <td>8184294930</td>\n",
       "      <td>27</td>\n",
       "      <td>i can say that koalas sleep up to 22 hours per...</td>\n",
       "      <td>not verified</td>\n",
       "      <td>active</td>\n",
       "      <td>944.0</td>\n",
       "      <td>152.0</td>\n",
       "      <td>29.0</td>\n",
       "      <td>0.0</td>\n",
       "      <td>0.0</td>\n",
       "    </tr>\n",
       "    <tr>\n",
       "      <th>145</th>\n",
       "      <td>146</td>\n",
       "      <td>claim</td>\n",
       "      <td>6710546869</td>\n",
       "      <td>28</td>\n",
       "      <td>a friend reported someone discovered that the ...</td>\n",
       "      <td>not verified</td>\n",
       "      <td>active</td>\n",
       "      <td>443793.0</td>\n",
       "      <td>62808.0</td>\n",
       "      <td>18380.0</td>\n",
       "      <td>671.0</td>\n",
       "      <td>251.0</td>\n",
       "    </tr>\n",
       "    <tr>\n",
       "      <th>12103</th>\n",
       "      <td>12104</td>\n",
       "      <td>opinion</td>\n",
       "      <td>8393686317</td>\n",
       "      <td>21</td>\n",
       "      <td>my reasoning is that a one-armed player scored...</td>\n",
       "      <td>not verified</td>\n",
       "      <td>active</td>\n",
       "      <td>5611.0</td>\n",
       "      <td>2464.0</td>\n",
       "      <td>820.0</td>\n",
       "      <td>49.0</td>\n",
       "      <td>1.0</td>\n",
       "    </tr>\n",
       "    <tr>\n",
       "      <th>19139</th>\n",
       "      <td>19140</td>\n",
       "      <td>NaN</td>\n",
       "      <td>8215389296</td>\n",
       "      <td>11</td>\n",
       "      <td>NaN</td>\n",
       "      <td>not verified</td>\n",
       "      <td>active</td>\n",
       "      <td>NaN</td>\n",
       "      <td>NaN</td>\n",
       "      <td>NaN</td>\n",
       "      <td>NaN</td>\n",
       "      <td>NaN</td>\n",
       "    </tr>\n",
       "    <tr>\n",
       "      <th>8267</th>\n",
       "      <td>8268</td>\n",
       "      <td>claim</td>\n",
       "      <td>5491068998</td>\n",
       "      <td>39</td>\n",
       "      <td>a colleague read an article mentioning that th...</td>\n",
       "      <td>not verified</td>\n",
       "      <td>active</td>\n",
       "      <td>510328.0</td>\n",
       "      <td>12737.0</td>\n",
       "      <td>3296.0</td>\n",
       "      <td>3.0</td>\n",
       "      <td>1.0</td>\n",
       "    </tr>\n",
       "    <tr>\n",
       "      <th>7079</th>\n",
       "      <td>7080</td>\n",
       "      <td>claim</td>\n",
       "      <td>8709362500</td>\n",
       "      <td>8</td>\n",
       "      <td>a colleague read  in a discussion board a clai...</td>\n",
       "      <td>not verified</td>\n",
       "      <td>active</td>\n",
       "      <td>179544.0</td>\n",
       "      <td>81700.0</td>\n",
       "      <td>14476.0</td>\n",
       "      <td>154.0</td>\n",
       "      <td>4.0</td>\n",
       "    </tr>\n",
       "  </tbody>\n",
       "</table>\n",
       "</div>"
      ],
      "text/plain": [
       "           # claim_status    video_id  video_duration_sec  \\\n",
       "5542    5543        claim  8374141529                  20   \n",
       "6969    6970        claim  2075564626                  15   \n",
       "17913  17914      opinion  6114104223                  27   \n",
       "4362    4363        claim  9890716489                  51   \n",
       "17786  17787      opinion  9668131015                  20   \n",
       "4863    4864        claim  3455876455                  18   \n",
       "13119  13120      opinion  2312102478                  50   \n",
       "1817    1818        claim  8503633294                  25   \n",
       "18171  18172      opinion  1622800427                  55   \n",
       "17113  17114      opinion  8184294930                  27   \n",
       "145      146        claim  6710546869                  28   \n",
       "12103  12104      opinion  8393686317                  21   \n",
       "19139  19140          NaN  8215389296                  11   \n",
       "8267    8268        claim  5491068998                  39   \n",
       "7079    7080        claim  8709362500                   8   \n",
       "\n",
       "                                video_transcription_text verified_status  \\\n",
       "5542   i read  in a discussion board that mercury & v...    not verified   \n",
       "6969   a colleague read  on social media a claim that...    not verified   \n",
       "17913  my friends are willing to bet that our sense o...    not verified   \n",
       "4362   someone read  in the media that the longest re...    not verified   \n",
       "17786  my friends are willing to wager that the most ...    not verified   \n",
       "4863   i learned  in a discussion board a claim that ...    not verified   \n",
       "13119  our position is that no two tongue prints are ...        verified   \n",
       "1817   a friend learned  in the media a claim that th...    not verified   \n",
       "18171  my family is willing to bet that 4 of the top ...    not verified   \n",
       "17113  i can say that koalas sleep up to 22 hours per...    not verified   \n",
       "145    a friend reported someone discovered that the ...    not verified   \n",
       "12103  my reasoning is that a one-armed player scored...    not verified   \n",
       "19139                                                NaN    not verified   \n",
       "8267   a colleague read an article mentioning that th...    not verified   \n",
       "7079   a colleague read  in a discussion board a clai...    not verified   \n",
       "\n",
       "      author_ban_status  video_view_count  video_like_count  \\\n",
       "5542             active          600881.0          242444.0   \n",
       "6969             active          791012.0          400197.0   \n",
       "17913            active             795.0             127.0   \n",
       "4362             active          250493.0          154067.0   \n",
       "17786            active            8670.0            3740.0   \n",
       "4863             active          473296.0           54409.0   \n",
       "13119            active            5850.0            2307.0   \n",
       "1817             active          241461.0           31455.0   \n",
       "18171            active            4363.0            1050.0   \n",
       "17113            active             944.0             152.0   \n",
       "145              active          443793.0           62808.0   \n",
       "12103            active            5611.0            2464.0   \n",
       "19139            active               NaN               NaN   \n",
       "8267             active          510328.0           12737.0   \n",
       "7079             active          179544.0           81700.0   \n",
       "\n",
       "       video_share_count  video_download_count  video_comment_count  \n",
       "5542             37673.0                2354.0                162.0  \n",
       "6969              1889.0                5332.0               1631.0  \n",
       "17913               26.0                   3.0                  0.0  \n",
       "4362             52380.0                1669.0               1089.0  \n",
       "17786              187.0                  42.0                  2.0  \n",
       "4863               164.0                 584.0                138.0  \n",
       "13119              275.0                  55.0                 17.0  \n",
       "1817              1952.0                 487.0                163.0  \n",
       "18171              255.0                  20.0                  4.0  \n",
       "17113               29.0                   0.0                  0.0  \n",
       "145              18380.0                 671.0                251.0  \n",
       "12103              820.0                  49.0                  1.0  \n",
       "19139                NaN                   NaN                  NaN  \n",
       "8267              3296.0                   3.0                  1.0  \n",
       "7079             14476.0                 154.0                  4.0  "
      ]
     },
     "execution_count": 4,
     "metadata": {},
     "output_type": "execute_result"
    }
   ],
   "source": [
    "df.sample(n=15)"
   ]
  },
  {
   "cell_type": "code",
   "execution_count": 5,
   "metadata": {},
   "outputs": [
    {
     "name": "stdout",
     "output_type": "stream",
     "text": [
      "<class 'pandas.core.frame.DataFrame'>\n",
      "RangeIndex: 19382 entries, 0 to 19381\n",
      "Data columns (total 12 columns):\n",
      " #   Column                    Non-Null Count  Dtype  \n",
      "---  ------                    --------------  -----  \n",
      " 0   #                         19382 non-null  int64  \n",
      " 1   claim_status              19084 non-null  object \n",
      " 2   video_id                  19382 non-null  int64  \n",
      " 3   video_duration_sec        19382 non-null  int64  \n",
      " 4   video_transcription_text  19084 non-null  object \n",
      " 5   verified_status           19382 non-null  object \n",
      " 6   author_ban_status         19382 non-null  object \n",
      " 7   video_view_count          19084 non-null  float64\n",
      " 8   video_like_count          19084 non-null  float64\n",
      " 9   video_share_count         19084 non-null  float64\n",
      " 10  video_download_count      19084 non-null  float64\n",
      " 11  video_comment_count       19084 non-null  float64\n",
      "dtypes: float64(5), int64(3), object(4)\n",
      "memory usage: 1.8+ MB\n"
     ]
    }
   ],
   "source": [
    "df.info()"
   ]
  },
  {
   "cell_type": "code",
   "execution_count": 6,
   "metadata": {},
   "outputs": [
    {
     "data": {
      "text/html": [
       "<div>\n",
       "<style scoped>\n",
       "    .dataframe tbody tr th:only-of-type {\n",
       "        vertical-align: middle;\n",
       "    }\n",
       "\n",
       "    .dataframe tbody tr th {\n",
       "        vertical-align: top;\n",
       "    }\n",
       "\n",
       "    .dataframe thead th {\n",
       "        text-align: right;\n",
       "    }\n",
       "</style>\n",
       "<table border=\"1\" class=\"dataframe\">\n",
       "  <thead>\n",
       "    <tr style=\"text-align: right;\">\n",
       "      <th></th>\n",
       "      <th>#</th>\n",
       "      <th>video_id</th>\n",
       "      <th>video_duration_sec</th>\n",
       "      <th>video_view_count</th>\n",
       "      <th>video_like_count</th>\n",
       "      <th>video_share_count</th>\n",
       "      <th>video_download_count</th>\n",
       "      <th>video_comment_count</th>\n",
       "    </tr>\n",
       "  </thead>\n",
       "  <tbody>\n",
       "    <tr>\n",
       "      <th>count</th>\n",
       "      <td>19382.000000</td>\n",
       "      <td>1.938200e+04</td>\n",
       "      <td>19382.000000</td>\n",
       "      <td>19084.000000</td>\n",
       "      <td>19084.000000</td>\n",
       "      <td>19084.000000</td>\n",
       "      <td>19084.000000</td>\n",
       "      <td>19084.000000</td>\n",
       "    </tr>\n",
       "    <tr>\n",
       "      <th>mean</th>\n",
       "      <td>9691.500000</td>\n",
       "      <td>5.627454e+09</td>\n",
       "      <td>32.421732</td>\n",
       "      <td>254708.558688</td>\n",
       "      <td>84304.636030</td>\n",
       "      <td>16735.248323</td>\n",
       "      <td>1049.429627</td>\n",
       "      <td>349.312146</td>\n",
       "    </tr>\n",
       "    <tr>\n",
       "      <th>std</th>\n",
       "      <td>5595.245794</td>\n",
       "      <td>2.536440e+09</td>\n",
       "      <td>16.229967</td>\n",
       "      <td>322893.280814</td>\n",
       "      <td>133420.546814</td>\n",
       "      <td>32036.174350</td>\n",
       "      <td>2004.299894</td>\n",
       "      <td>799.638865</td>\n",
       "    </tr>\n",
       "    <tr>\n",
       "      <th>min</th>\n",
       "      <td>1.000000</td>\n",
       "      <td>1.234959e+09</td>\n",
       "      <td>5.000000</td>\n",
       "      <td>20.000000</td>\n",
       "      <td>0.000000</td>\n",
       "      <td>0.000000</td>\n",
       "      <td>0.000000</td>\n",
       "      <td>0.000000</td>\n",
       "    </tr>\n",
       "    <tr>\n",
       "      <th>25%</th>\n",
       "      <td>4846.250000</td>\n",
       "      <td>3.430417e+09</td>\n",
       "      <td>18.000000</td>\n",
       "      <td>4942.500000</td>\n",
       "      <td>810.750000</td>\n",
       "      <td>115.000000</td>\n",
       "      <td>7.000000</td>\n",
       "      <td>1.000000</td>\n",
       "    </tr>\n",
       "    <tr>\n",
       "      <th>50%</th>\n",
       "      <td>9691.500000</td>\n",
       "      <td>5.618664e+09</td>\n",
       "      <td>32.000000</td>\n",
       "      <td>9954.500000</td>\n",
       "      <td>3403.500000</td>\n",
       "      <td>717.000000</td>\n",
       "      <td>46.000000</td>\n",
       "      <td>9.000000</td>\n",
       "    </tr>\n",
       "    <tr>\n",
       "      <th>75%</th>\n",
       "      <td>14536.750000</td>\n",
       "      <td>7.843960e+09</td>\n",
       "      <td>47.000000</td>\n",
       "      <td>504327.000000</td>\n",
       "      <td>125020.000000</td>\n",
       "      <td>18222.000000</td>\n",
       "      <td>1156.250000</td>\n",
       "      <td>292.000000</td>\n",
       "    </tr>\n",
       "    <tr>\n",
       "      <th>max</th>\n",
       "      <td>19382.000000</td>\n",
       "      <td>9.999873e+09</td>\n",
       "      <td>60.000000</td>\n",
       "      <td>999817.000000</td>\n",
       "      <td>657830.000000</td>\n",
       "      <td>256130.000000</td>\n",
       "      <td>14994.000000</td>\n",
       "      <td>9599.000000</td>\n",
       "    </tr>\n",
       "  </tbody>\n",
       "</table>\n",
       "</div>"
      ],
      "text/plain": [
       "                  #      video_id  video_duration_sec  video_view_count  \\\n",
       "count  19382.000000  1.938200e+04        19382.000000      19084.000000   \n",
       "mean    9691.500000  5.627454e+09           32.421732     254708.558688   \n",
       "std     5595.245794  2.536440e+09           16.229967     322893.280814   \n",
       "min        1.000000  1.234959e+09            5.000000         20.000000   \n",
       "25%     4846.250000  3.430417e+09           18.000000       4942.500000   \n",
       "50%     9691.500000  5.618664e+09           32.000000       9954.500000   \n",
       "75%    14536.750000  7.843960e+09           47.000000     504327.000000   \n",
       "max    19382.000000  9.999873e+09           60.000000     999817.000000   \n",
       "\n",
       "       video_like_count  video_share_count  video_download_count  \\\n",
       "count      19084.000000       19084.000000          19084.000000   \n",
       "mean       84304.636030       16735.248323           1049.429627   \n",
       "std       133420.546814       32036.174350           2004.299894   \n",
       "min            0.000000           0.000000              0.000000   \n",
       "25%          810.750000         115.000000              7.000000   \n",
       "50%         3403.500000         717.000000             46.000000   \n",
       "75%       125020.000000       18222.000000           1156.250000   \n",
       "max       657830.000000      256130.000000          14994.000000   \n",
       "\n",
       "       video_comment_count  \n",
       "count         19084.000000  \n",
       "mean            349.312146  \n",
       "std             799.638865  \n",
       "min               0.000000  \n",
       "25%               1.000000  \n",
       "50%               9.000000  \n",
       "75%             292.000000  \n",
       "max            9599.000000  "
      ]
     },
     "execution_count": 6,
     "metadata": {},
     "output_type": "execute_result"
    }
   ],
   "source": [
    "df.describe()"
   ]
  },
  {
   "cell_type": "code",
   "execution_count": 7,
   "metadata": {},
   "outputs": [
    {
     "data": {
      "text/plain": [
       "#                             0\n",
       "claim_status                298\n",
       "video_id                      0\n",
       "video_duration_sec            0\n",
       "video_transcription_text    298\n",
       "verified_status               0\n",
       "author_ban_status             0\n",
       "video_view_count            298\n",
       "video_like_count            298\n",
       "video_share_count           298\n",
       "video_download_count        298\n",
       "video_comment_count         298\n",
       "dtype: int64"
      ]
     },
     "execution_count": 7,
     "metadata": {},
     "output_type": "execute_result"
    }
   ],
   "source": [
    "# Alle Werte bei denen keine Einträge gefunden wurden\n",
    "\n",
    "df.isnull().sum()"
   ]
  },
  {
   "cell_type": "markdown",
   "metadata": {},
   "source": [
    "## 03: Bearbeitung / Bereinigung des Datensatzes"
   ]
  },
  {
   "cell_type": "code",
   "execution_count": 8,
   "metadata": {},
   "outputs": [
    {
     "data": {
      "text/plain": [
       "#                             0\n",
       "claim_status                298\n",
       "video_id                      0\n",
       "video_duration_sec            0\n",
       "video_transcription_text    298\n",
       "verified_status               0\n",
       "author_ban_status             0\n",
       "video_view_count            298\n",
       "video_like_count            298\n",
       "video_share_count           298\n",
       "video_download_count        298\n",
       "video_comment_count         298\n",
       "dtype: int64"
      ]
     },
     "execution_count": 8,
     "metadata": {},
     "output_type": "execute_result"
    }
   ],
   "source": [
    "# Alle Werte bei denen keine Einträge gefunden wurden\n",
    "\n",
    "df.isnull().sum()"
   ]
  },
  {
   "cell_type": "code",
   "execution_count": 9,
   "metadata": {},
   "outputs": [],
   "source": [
    "df_missing = df[df.isna().any(axis=1)]"
   ]
  },
  {
   "cell_type": "code",
   "execution_count": 10,
   "metadata": {},
   "outputs": [],
   "source": [
    "pd.set_option('display.max_rows', len(df_missing))\n",
    "df_missing\n",
    "pd.reset_option('display.max_rows')\n",
    "\n",
    "# Für die vollständige, angezeigt Liste der fehlenden Daten einfach ein # vor pd.reset_option('display.max_rows') setzen\n",
    "# Es wurden nicht ausreichend Daten in dem Datensatz bei NaN Werten ausgefüllt.\n",
    "# Diese Daten werden gelöscht"
   ]
  },
  {
   "cell_type": "code",
   "execution_count": 11,
   "metadata": {},
   "outputs": [],
   "source": [
    "df = df.dropna()"
   ]
  },
  {
   "cell_type": "code",
   "execution_count": 12,
   "metadata": {},
   "outputs": [
    {
     "data": {
      "text/plain": [
       "#                           0\n",
       "claim_status                0\n",
       "video_id                    0\n",
       "video_duration_sec          0\n",
       "video_transcription_text    0\n",
       "verified_status             0\n",
       "author_ban_status           0\n",
       "video_view_count            0\n",
       "video_like_count            0\n",
       "video_share_count           0\n",
       "video_download_count        0\n",
       "video_comment_count         0\n",
       "dtype: int64"
      ]
     },
     "execution_count": 12,
     "metadata": {},
     "output_type": "execute_result"
    }
   ],
   "source": [
    "# Alle Werte bei denen keine Einträge gefunden wurden\n",
    "\n",
    "df.isnull().sum()"
   ]
  },
  {
   "cell_type": "code",
   "execution_count": 13,
   "metadata": {},
   "outputs": [
    {
     "name": "stdout",
     "output_type": "stream",
     "text": [
      "<class 'pandas.core.frame.DataFrame'>\n",
      "Index: 19084 entries, 0 to 19083\n",
      "Data columns (total 12 columns):\n",
      " #   Column                    Non-Null Count  Dtype  \n",
      "---  ------                    --------------  -----  \n",
      " 0   #                         19084 non-null  int64  \n",
      " 1   claim_status              19084 non-null  object \n",
      " 2   video_id                  19084 non-null  int64  \n",
      " 3   video_duration_sec        19084 non-null  int64  \n",
      " 4   video_transcription_text  19084 non-null  object \n",
      " 5   verified_status           19084 non-null  object \n",
      " 6   author_ban_status         19084 non-null  object \n",
      " 7   video_view_count          19084 non-null  float64\n",
      " 8   video_like_count          19084 non-null  float64\n",
      " 9   video_share_count         19084 non-null  float64\n",
      " 10  video_download_count      19084 non-null  float64\n",
      " 11  video_comment_count       19084 non-null  float64\n",
      "dtypes: float64(5), int64(3), object(4)\n",
      "memory usage: 1.9+ MB\n"
     ]
    }
   ],
   "source": [
    "df.info()"
   ]
  },
  {
   "cell_type": "markdown",
   "metadata": {},
   "source": [
    "## 04: Tieferes Verständnis der Daten"
   ]
  },
  {
   "cell_type": "code",
   "execution_count": 14,
   "metadata": {},
   "outputs": [
    {
     "data": {
      "text/plain": [
       "claim_status\n",
       "claim      9608\n",
       "opinion    9476\n",
       "Name: count, dtype: int64"
      ]
     },
     "execution_count": 14,
     "metadata": {},
     "output_type": "execute_result"
    }
   ],
   "source": [
    "# Wie of wurde ein Video als Behauptung (claim) oder als Meinung (opinion) gekennzeichnet\n",
    "# Bei der Menge an Daten ist es relativ ausgewogen\n",
    "\n",
    "df['claim_status'].value_counts()"
   ]
  },
  {
   "cell_type": "code",
   "execution_count": 15,
   "metadata": {},
   "outputs": [
    {
     "name": "stdout",
     "output_type": "stream",
     "text": [
      "Mean view count claims: 501029.4527477102\n",
      "Median view count claims: 501555.0\n"
     ]
    }
   ],
   "source": [
    "# Boolian Filter für nur Videos mit \"claim\"\n",
    "# Daraus dann Durchschnitt und Meadian berechnen\n",
    "\n",
    "# Durchschnittliche views mit Status \"claim\"\"\n",
    "\n",
    "claims = df[df['claim_status'] == 'claim']\n",
    "print('Mean view count claims:', claims['video_view_count'].mean())\n",
    "print('Median view count claims:', claims['video_view_count'].median())"
   ]
  },
  {
   "cell_type": "code",
   "execution_count": 16,
   "metadata": {},
   "outputs": [
    {
     "name": "stdout",
     "output_type": "stream",
     "text": [
      "Mean view count opinions: 4956.43224989447\n",
      "Median view count opinions: 4953.0\n"
     ]
    }
   ],
   "source": [
    "# Durchschnittliche views mit Status \"opinion\"\"\n",
    "\n",
    "opinions = df[df['claim_status'] == 'opinion']\n",
    "print('Mean view count opinions:', opinions['video_view_count'].mean())\n",
    "print('Median view count opinions:', opinions['video_view_count'].median())"
   ]
  },
  {
   "cell_type": "code",
   "execution_count": 17,
   "metadata": {},
   "outputs": [
    {
     "data": {
      "text/html": [
       "<div>\n",
       "<style scoped>\n",
       "    .dataframe tbody tr th:only-of-type {\n",
       "        vertical-align: middle;\n",
       "    }\n",
       "\n",
       "    .dataframe tbody tr th {\n",
       "        vertical-align: top;\n",
       "    }\n",
       "\n",
       "    .dataframe thead th {\n",
       "        text-align: right;\n",
       "    }\n",
       "</style>\n",
       "<table border=\"1\" class=\"dataframe\">\n",
       "  <thead>\n",
       "    <tr style=\"text-align: right;\">\n",
       "      <th></th>\n",
       "      <th></th>\n",
       "      <th>#</th>\n",
       "    </tr>\n",
       "    <tr>\n",
       "      <th>claim_status</th>\n",
       "      <th>author_ban_status</th>\n",
       "      <th></th>\n",
       "    </tr>\n",
       "  </thead>\n",
       "  <tbody>\n",
       "    <tr>\n",
       "      <th rowspan=\"3\" valign=\"top\">claim</th>\n",
       "      <th>active</th>\n",
       "      <td>6566</td>\n",
       "    </tr>\n",
       "    <tr>\n",
       "      <th>banned</th>\n",
       "      <td>1439</td>\n",
       "    </tr>\n",
       "    <tr>\n",
       "      <th>under review</th>\n",
       "      <td>1603</td>\n",
       "    </tr>\n",
       "    <tr>\n",
       "      <th rowspan=\"3\" valign=\"top\">opinion</th>\n",
       "      <th>active</th>\n",
       "      <td>8817</td>\n",
       "    </tr>\n",
       "    <tr>\n",
       "      <th>banned</th>\n",
       "      <td>196</td>\n",
       "    </tr>\n",
       "    <tr>\n",
       "      <th>under review</th>\n",
       "      <td>463</td>\n",
       "    </tr>\n",
       "  </tbody>\n",
       "</table>\n",
       "</div>"
      ],
      "text/plain": [
       "                                   #\n",
       "claim_status author_ban_status      \n",
       "claim        active             6566\n",
       "             banned             1439\n",
       "             under review       1603\n",
       "opinion      active             8817\n",
       "             banned              196\n",
       "             under review        463"
      ]
     },
     "execution_count": 17,
     "metadata": {},
     "output_type": "execute_result"
    }
   ],
   "source": [
    "# Durchschnitt und Median liegen bei beiden Kategorien nah aneinander\n",
    "# Allerdings großer Unterschied zwischen den views\n",
    "\n",
    "# Anzahl kombinierte Möglichkeiten mit dem Status mit dem Bann Status\n",
    "\n",
    "df.groupby(['claim_status', 'author_ban_status']).count()[['#']]\n",
    "\n",
    "# Möglichkeiten:\n",
    "# Behauptungsvideos unterliegen strengeren Kontrollen als Meinungsvideos\n",
    "# Autoren müssen strengere Regeln einhalten, wenn sie eine Behauptung veröffentlichen, als wenn sie eine Meinung veröffentlichen."
   ]
  },
  {
   "cell_type": "code",
   "execution_count": 18,
   "metadata": {},
   "outputs": [
    {
     "data": {
      "text/html": [
       "<div>\n",
       "<style scoped>\n",
       "    .dataframe tbody tr th:only-of-type {\n",
       "        vertical-align: middle;\n",
       "    }\n",
       "\n",
       "    .dataframe tbody tr th {\n",
       "        vertical-align: top;\n",
       "    }\n",
       "\n",
       "    .dataframe thead tr th {\n",
       "        text-align: left;\n",
       "    }\n",
       "\n",
       "    .dataframe thead tr:last-of-type th {\n",
       "        text-align: right;\n",
       "    }\n",
       "</style>\n",
       "<table border=\"1\" class=\"dataframe\">\n",
       "  <thead>\n",
       "    <tr>\n",
       "      <th></th>\n",
       "      <th colspan=\"2\" halign=\"left\">video_view_count</th>\n",
       "      <th colspan=\"2\" halign=\"left\">video_like_count</th>\n",
       "      <th colspan=\"2\" halign=\"left\">video_share_count</th>\n",
       "    </tr>\n",
       "    <tr>\n",
       "      <th></th>\n",
       "      <th>mean</th>\n",
       "      <th>median</th>\n",
       "      <th>mean</th>\n",
       "      <th>median</th>\n",
       "      <th>mean</th>\n",
       "      <th>median</th>\n",
       "    </tr>\n",
       "    <tr>\n",
       "      <th>author_ban_status</th>\n",
       "      <th></th>\n",
       "      <th></th>\n",
       "      <th></th>\n",
       "      <th></th>\n",
       "      <th></th>\n",
       "      <th></th>\n",
       "    </tr>\n",
       "  </thead>\n",
       "  <tbody>\n",
       "    <tr>\n",
       "      <th>active</th>\n",
       "      <td>215927.039524</td>\n",
       "      <td>8616.0</td>\n",
       "      <td>71036.533836</td>\n",
       "      <td>2222.0</td>\n",
       "      <td>14111.466164</td>\n",
       "      <td>437.0</td>\n",
       "    </tr>\n",
       "    <tr>\n",
       "      <th>banned</th>\n",
       "      <td>445845.439144</td>\n",
       "      <td>448201.0</td>\n",
       "      <td>153017.236697</td>\n",
       "      <td>105573.0</td>\n",
       "      <td>29998.942508</td>\n",
       "      <td>14468.0</td>\n",
       "    </tr>\n",
       "    <tr>\n",
       "      <th>under review</th>\n",
       "      <td>392204.836399</td>\n",
       "      <td>365245.5</td>\n",
       "      <td>128718.050339</td>\n",
       "      <td>71204.5</td>\n",
       "      <td>25774.696999</td>\n",
       "      <td>9444.0</td>\n",
       "    </tr>\n",
       "  </tbody>\n",
       "</table>\n",
       "</div>"
      ],
      "text/plain": [
       "                  video_view_count           video_like_count            \\\n",
       "                              mean    median             mean    median   \n",
       "author_ban_status                                                         \n",
       "active               215927.039524    8616.0     71036.533836    2222.0   \n",
       "banned               445845.439144  448201.0    153017.236697  105573.0   \n",
       "under review         392204.836399  365245.5    128718.050339   71204.5   \n",
       "\n",
       "                  video_share_count           \n",
       "                               mean   median  \n",
       "author_ban_status                             \n",
       "active                 14111.466164    437.0  \n",
       "banned                 29998.942508  14468.0  \n",
       "under review           25774.696999   9444.0  "
      ]
     },
     "execution_count": 18,
     "metadata": {},
     "output_type": "execute_result"
    }
   ],
   "source": [
    "# Durchschnitt und Median für für die verschiedenen Bann Kategorien\n",
    "\n",
    "df.groupby(['author_ban_status']).agg(\n",
    "    {'video_view_count': ['mean', 'median'],\n",
    "     'video_like_count': ['mean', 'median'],\n",
    "     'video_share_count': ['mean', 'median']})"
   ]
  },
  {
   "cell_type": "code",
   "execution_count": 19,
   "metadata": {},
   "outputs": [
    {
     "data": {
      "text/html": [
       "<div>\n",
       "<style scoped>\n",
       "    .dataframe tbody tr th:only-of-type {\n",
       "        vertical-align: middle;\n",
       "    }\n",
       "\n",
       "    .dataframe tbody tr th {\n",
       "        vertical-align: top;\n",
       "    }\n",
       "\n",
       "    .dataframe thead th {\n",
       "        text-align: right;\n",
       "    }\n",
       "</style>\n",
       "<table border=\"1\" class=\"dataframe\">\n",
       "  <thead>\n",
       "    <tr style=\"text-align: right;\">\n",
       "      <th></th>\n",
       "      <th>video_share_count</th>\n",
       "    </tr>\n",
       "    <tr>\n",
       "      <th>author_ban_status</th>\n",
       "      <th></th>\n",
       "    </tr>\n",
       "  </thead>\n",
       "  <tbody>\n",
       "    <tr>\n",
       "      <th>active</th>\n",
       "      <td>437.0</td>\n",
       "    </tr>\n",
       "    <tr>\n",
       "      <th>banned</th>\n",
       "      <td>14468.0</td>\n",
       "    </tr>\n",
       "    <tr>\n",
       "      <th>under review</th>\n",
       "      <td>9444.0</td>\n",
       "    </tr>\n",
       "  </tbody>\n",
       "</table>\n",
       "</div>"
      ],
      "text/plain": [
       "                   video_share_count\n",
       "author_ban_status                   \n",
       "active                         437.0\n",
       "banned                       14468.0\n",
       "under review                  9444.0"
      ]
     },
     "execution_count": 19,
     "metadata": {},
     "output_type": "execute_result"
    }
   ],
   "source": [
    "# What's the median video share count of each author ban status?\n",
    "# Durchschnittliche Anzahl an \"Video teilen\" für die jeweiligen Bann Stadien\n",
    "\n",
    "# Die durchschnittliche Anzahl der Shares gesperrter Autoren ist 33 Mal so hoch wie die der aktiven Autoren!\n",
    "\n",
    "df.groupby(['author_ban_status']).median(numeric_only=True)[\n",
    "    ['video_share_count']]"
   ]
  },
  {
   "cell_type": "code",
   "execution_count": 20,
   "metadata": {},
   "outputs": [
    {
     "data": {
      "text/html": [
       "<div>\n",
       "<style scoped>\n",
       "    .dataframe tbody tr th:only-of-type {\n",
       "        vertical-align: middle;\n",
       "    }\n",
       "\n",
       "    .dataframe tbody tr th {\n",
       "        vertical-align: top;\n",
       "    }\n",
       "\n",
       "    .dataframe thead tr th {\n",
       "        text-align: left;\n",
       "    }\n",
       "\n",
       "    .dataframe thead tr:last-of-type th {\n",
       "        text-align: right;\n",
       "    }\n",
       "</style>\n",
       "<table border=\"1\" class=\"dataframe\">\n",
       "  <thead>\n",
       "    <tr>\n",
       "      <th></th>\n",
       "      <th colspan=\"3\" halign=\"left\">video_view_count</th>\n",
       "      <th colspan=\"3\" halign=\"left\">video_like_count</th>\n",
       "      <th colspan=\"3\" halign=\"left\">video_share_count</th>\n",
       "    </tr>\n",
       "    <tr>\n",
       "      <th></th>\n",
       "      <th>count</th>\n",
       "      <th>mean</th>\n",
       "      <th>median</th>\n",
       "      <th>count</th>\n",
       "      <th>mean</th>\n",
       "      <th>median</th>\n",
       "      <th>count</th>\n",
       "      <th>mean</th>\n",
       "      <th>median</th>\n",
       "    </tr>\n",
       "    <tr>\n",
       "      <th>author_ban_status</th>\n",
       "      <th></th>\n",
       "      <th></th>\n",
       "      <th></th>\n",
       "      <th></th>\n",
       "      <th></th>\n",
       "      <th></th>\n",
       "      <th></th>\n",
       "      <th></th>\n",
       "      <th></th>\n",
       "    </tr>\n",
       "  </thead>\n",
       "  <tbody>\n",
       "    <tr>\n",
       "      <th>active</th>\n",
       "      <td>15383</td>\n",
       "      <td>215927.039524</td>\n",
       "      <td>8616.0</td>\n",
       "      <td>15383</td>\n",
       "      <td>71036.533836</td>\n",
       "      <td>2222.0</td>\n",
       "      <td>15383</td>\n",
       "      <td>14111.466164</td>\n",
       "      <td>437.0</td>\n",
       "    </tr>\n",
       "    <tr>\n",
       "      <th>banned</th>\n",
       "      <td>1635</td>\n",
       "      <td>445845.439144</td>\n",
       "      <td>448201.0</td>\n",
       "      <td>1635</td>\n",
       "      <td>153017.236697</td>\n",
       "      <td>105573.0</td>\n",
       "      <td>1635</td>\n",
       "      <td>29998.942508</td>\n",
       "      <td>14468.0</td>\n",
       "    </tr>\n",
       "    <tr>\n",
       "      <th>under review</th>\n",
       "      <td>2066</td>\n",
       "      <td>392204.836399</td>\n",
       "      <td>365245.5</td>\n",
       "      <td>2066</td>\n",
       "      <td>128718.050339</td>\n",
       "      <td>71204.5</td>\n",
       "      <td>2066</td>\n",
       "      <td>25774.696999</td>\n",
       "      <td>9444.0</td>\n",
       "    </tr>\n",
       "  </tbody>\n",
       "</table>\n",
       "</div>"
      ],
      "text/plain": [
       "                  video_view_count                          video_like_count  \\\n",
       "                             count           mean    median            count   \n",
       "author_ban_status                                                              \n",
       "active                       15383  215927.039524    8616.0            15383   \n",
       "banned                        1635  445845.439144  448201.0             1635   \n",
       "under review                  2066  392204.836399  365245.5             2066   \n",
       "\n",
       "                                           video_share_count                \\\n",
       "                            mean    median             count          mean   \n",
       "author_ban_status                                                            \n",
       "active              71036.533836    2222.0             15383  14111.466164   \n",
       "banned             153017.236697  105573.0              1635  29998.942508   \n",
       "under review       128718.050339   71204.5              2066  25774.696999   \n",
       "\n",
       "                            \n",
       "                    median  \n",
       "author_ban_status           \n",
       "active               437.0  \n",
       "banned             14468.0  \n",
       "under review        9444.0  "
      ]
     },
     "execution_count": 20,
     "metadata": {},
     "output_type": "execute_result"
    }
   ],
   "source": [
    "# Daten gruppieren und als Dict aufbauen\n",
    "\n",
    "df.groupby(['author_ban_status']).agg(\n",
    "    {'video_view_count': ['count', 'mean', 'median'],\n",
    "     'video_like_count': ['count', 'mean', 'median'],\n",
    "     'video_share_count': ['count', 'mean', 'median']\n",
    "     })\n",
    "\n",
    "# Gesperrte und überprüfte Autoren erhalten weitaus mehr Aufrufe, Likes und Shares als aktive Autoren.\n",
    "# In den meisten Gruppen ist der Mittelwert viel höher als der Median, was darauf hinweist, dass es einige Videos mit sehr hohen Aufruf-Zahlen gibt."
   ]
  },
  {
   "cell_type": "code",
   "execution_count": 21,
   "metadata": {},
   "outputs": [],
   "source": [
    "# Neues likes_per_view Column\n",
    "df['likes_per_view'] = df['video_like_count'] / df['video_view_count']\n",
    "\n",
    "# Neues comments_per_view Column\n",
    "df['comments_per_view'] = df['video_comment_count'] / df['video_view_count']\n",
    "\n",
    "# Neues shares_per_view Column\n",
    "df['shares_per_view'] = df['video_share_count'] / df['video_view_count']"
   ]
  },
  {
   "cell_type": "code",
   "execution_count": 22,
   "metadata": {},
   "outputs": [
    {
     "data": {
      "text/html": [
       "<div>\n",
       "<style scoped>\n",
       "    .dataframe tbody tr th:only-of-type {\n",
       "        vertical-align: middle;\n",
       "    }\n",
       "\n",
       "    .dataframe tbody tr th {\n",
       "        vertical-align: top;\n",
       "    }\n",
       "\n",
       "    .dataframe thead tr th {\n",
       "        text-align: left;\n",
       "    }\n",
       "\n",
       "    .dataframe thead tr:last-of-type th {\n",
       "        text-align: right;\n",
       "    }\n",
       "</style>\n",
       "<table border=\"1\" class=\"dataframe\">\n",
       "  <thead>\n",
       "    <tr>\n",
       "      <th></th>\n",
       "      <th></th>\n",
       "      <th colspan=\"3\" halign=\"left\">likes_per_view</th>\n",
       "      <th colspan=\"3\" halign=\"left\">comments_per_view</th>\n",
       "      <th colspan=\"3\" halign=\"left\">shares_per_view</th>\n",
       "    </tr>\n",
       "    <tr>\n",
       "      <th></th>\n",
       "      <th></th>\n",
       "      <th>count</th>\n",
       "      <th>mean</th>\n",
       "      <th>median</th>\n",
       "      <th>count</th>\n",
       "      <th>mean</th>\n",
       "      <th>median</th>\n",
       "      <th>count</th>\n",
       "      <th>mean</th>\n",
       "      <th>median</th>\n",
       "    </tr>\n",
       "    <tr>\n",
       "      <th>claim_status</th>\n",
       "      <th>author_ban_status</th>\n",
       "      <th></th>\n",
       "      <th></th>\n",
       "      <th></th>\n",
       "      <th></th>\n",
       "      <th></th>\n",
       "      <th></th>\n",
       "      <th></th>\n",
       "      <th></th>\n",
       "      <th></th>\n",
       "    </tr>\n",
       "  </thead>\n",
       "  <tbody>\n",
       "    <tr>\n",
       "      <th rowspan=\"3\" valign=\"top\">claim</th>\n",
       "      <th>active</th>\n",
       "      <td>6566</td>\n",
       "      <td>0.329542</td>\n",
       "      <td>0.326538</td>\n",
       "      <td>6566</td>\n",
       "      <td>0.001393</td>\n",
       "      <td>0.000776</td>\n",
       "      <td>6566</td>\n",
       "      <td>0.065456</td>\n",
       "      <td>0.049279</td>\n",
       "    </tr>\n",
       "    <tr>\n",
       "      <th>banned</th>\n",
       "      <td>1439</td>\n",
       "      <td>0.345071</td>\n",
       "      <td>0.358909</td>\n",
       "      <td>1439</td>\n",
       "      <td>0.001377</td>\n",
       "      <td>0.000746</td>\n",
       "      <td>1439</td>\n",
       "      <td>0.067893</td>\n",
       "      <td>0.051606</td>\n",
       "    </tr>\n",
       "    <tr>\n",
       "      <th>under review</th>\n",
       "      <td>1603</td>\n",
       "      <td>0.327997</td>\n",
       "      <td>0.320867</td>\n",
       "      <td>1603</td>\n",
       "      <td>0.001367</td>\n",
       "      <td>0.000789</td>\n",
       "      <td>1603</td>\n",
       "      <td>0.065733</td>\n",
       "      <td>0.049967</td>\n",
       "    </tr>\n",
       "    <tr>\n",
       "      <th rowspan=\"3\" valign=\"top\">opinion</th>\n",
       "      <th>active</th>\n",
       "      <td>8817</td>\n",
       "      <td>0.219744</td>\n",
       "      <td>0.218330</td>\n",
       "      <td>8817</td>\n",
       "      <td>0.000517</td>\n",
       "      <td>0.000252</td>\n",
       "      <td>8817</td>\n",
       "      <td>0.043729</td>\n",
       "      <td>0.032405</td>\n",
       "    </tr>\n",
       "    <tr>\n",
       "      <th>banned</th>\n",
       "      <td>196</td>\n",
       "      <td>0.206868</td>\n",
       "      <td>0.198483</td>\n",
       "      <td>196</td>\n",
       "      <td>0.000434</td>\n",
       "      <td>0.000193</td>\n",
       "      <td>196</td>\n",
       "      <td>0.040531</td>\n",
       "      <td>0.030728</td>\n",
       "    </tr>\n",
       "    <tr>\n",
       "      <th>under review</th>\n",
       "      <td>463</td>\n",
       "      <td>0.226394</td>\n",
       "      <td>0.228051</td>\n",
       "      <td>463</td>\n",
       "      <td>0.000536</td>\n",
       "      <td>0.000293</td>\n",
       "      <td>463</td>\n",
       "      <td>0.044472</td>\n",
       "      <td>0.035027</td>\n",
       "    </tr>\n",
       "  </tbody>\n",
       "</table>\n",
       "</div>"
      ],
      "text/plain": [
       "                               likes_per_view                      \\\n",
       "                                        count      mean    median   \n",
       "claim_status author_ban_status                                      \n",
       "claim        active                      6566  0.329542  0.326538   \n",
       "             banned                      1439  0.345071  0.358909   \n",
       "             under review                1603  0.327997  0.320867   \n",
       "opinion      active                      8817  0.219744  0.218330   \n",
       "             banned                       196  0.206868  0.198483   \n",
       "             under review                 463  0.226394  0.228051   \n",
       "\n",
       "                               comments_per_view                      \\\n",
       "                                           count      mean    median   \n",
       "claim_status author_ban_status                                         \n",
       "claim        active                         6566  0.001393  0.000776   \n",
       "             banned                         1439  0.001377  0.000746   \n",
       "             under review                   1603  0.001367  0.000789   \n",
       "opinion      active                         8817  0.000517  0.000252   \n",
       "             banned                          196  0.000434  0.000193   \n",
       "             under review                    463  0.000536  0.000293   \n",
       "\n",
       "                               shares_per_view                      \n",
       "                                         count      mean    median  \n",
       "claim_status author_ban_status                                      \n",
       "claim        active                       6566  0.065456  0.049279  \n",
       "             banned                       1439  0.067893  0.051606  \n",
       "             under review                 1603  0.065733  0.049967  \n",
       "opinion      active                       8817  0.043729  0.032405  \n",
       "             banned                        196  0.040531  0.030728  \n",
       "             under review                  463  0.044472  0.035027  "
      ]
     },
     "execution_count": 22,
     "metadata": {},
     "output_type": "execute_result"
    }
   ],
   "source": [
    "df.groupby(['claim_status', 'author_ban_status']).agg(\n",
    "    {'likes_per_view': ['count', 'mean', 'median'],\n",
    "     'comments_per_view': ['count', 'mean', 'median'],\n",
    "     'shares_per_view': ['count', 'mean', 'median']})"
   ]
  },
  {
   "cell_type": "markdown",
   "metadata": {},
   "source": [
    "## 05: Visualisierungen"
   ]
  },
  {
   "cell_type": "code",
   "execution_count": 23,
   "metadata": {},
   "outputs": [
    {
     "data": {
      "image/png": "[encoded data removed]",
      "text/plain": [
       "<Figure size 1000x100 with 1 Axes>"
      ]
     },
     "metadata": {},
     "output_type": "display_data"
    }
   ],
   "source": [
    "# Boxplot zur für die Verteilung der Videodauer\n",
    "\n",
    "plt.figure(figsize=(10,1))\n",
    "plt.title('')\n",
    "sns.boxplot(x=df['video_duration_sec'])\n",
    "plt.title(\"Videodauer\")\n",
    "plt.xlabel(xlabel=\"Dauer in Sekunden\")\n",
    "plt.show()\n"
   ]
  },
  {
   "cell_type": "code",
   "execution_count": 24,
   "metadata": {},
   "outputs": [
    {
     "data": {
      "image/png": "[encoded data removed]",
      "text/plain": [
       "<Figure size 1000x600 with 1 Axes>"
      ]
     },
     "metadata": {},
     "output_type": "display_data"
    }
   ],
   "source": [
    "# histogramm für die Verteilung der Videos \n",
    "\n",
    "plt.figure(figsize=(10,6))\n",
    "sns.histplot(df['video_duration_sec'], bins=range(0,61,5))\n",
    "plt.title('Anzahl der Videos im Bezug auf die Dauer')\n",
    "plt.xlabel(xlabel=\"Dauer in Sekunden\")\n",
    "plt.ylabel(ylabel=\"Anzahl der Videos\")\n",
    "plt.show()\n",
    "\n",
    "# Alle Videos sind zwischen 5 und 50 Sekunden und etwa gleich verteilt"
   ]
  },
  {
   "cell_type": "code",
   "execution_count": 25,
   "metadata": {},
   "outputs": [
    {
     "data": {
      "image/png": "[encoded data removed]",
      "text/plain": [
       "<Figure size 1000x100 with 1 Axes>"
      ]
     },
     "metadata": {},
     "output_type": "display_data"
    }
   ],
   "source": [
    "# boxplot zur Verteilung der Video Views\n",
    "\n",
    "plt.figure(figsize=(10, 1))\n",
    "plt.title('Verteilung der Views')\n",
    "sns.boxplot(x=df['video_view_count'])\n",
    "plt.xlabel(xlabel=\"Views in Mio\")\n",
    "plt.show()"
   ]
  },
  {
   "cell_type": "code",
   "execution_count": 26,
   "metadata": {},
   "outputs": [
    {
     "data": {
      "image/png": "[encoded data removed]",
      "text/plain": [
       "<Figure size 1000x600 with 1 Axes>"
      ]
     },
     "metadata": {},
     "output_type": "display_data"
    }
   ],
   "source": [
    "# histogramm für die Verteilung der Views \n",
    "# x - Achse von 0 bis 1 Mio in 100k Schritten\n",
    "\n",
    "plt.figure(figsize=(10,6))\n",
    "sns.histplot(df['video_view_count'], bins=range(0,(10**6+1),10**5))\n",
    "plt.title('Verteilung der Views')\n",
    "plt.xlabel(xlabel=\"Views in Mio\")\n",
    "plt.ylabel(ylabel=\"Anzahl\")\n",
    "plt.show()\n",
    "\n",
    "# Diese Variable ist sehr ungleichmäßig verteilt. \n",
    "# Mehr als die Hälfte der Videos werden weniger als 100.000 Mal angesehen. \n",
    "# Die Verteilung der Aufrufzahlen > 100.000 ist gleichmäßig."
   ]
  },
  {
   "cell_type": "code",
   "execution_count": 27,
   "metadata": {},
   "outputs": [
    {
     "data": {
      "image/png": "[encoded data removed]",
      "text/plain": [
       "<Figure size 1000x100 with 1 Axes>"
      ]
     },
     "metadata": {},
     "output_type": "display_data"
    }
   ],
   "source": [
    "# boxplot der Likes\n",
    "\n",
    "plt.figure(figsize=(10,1))\n",
    "plt.title('Verteilung der Likes')\n",
    "sns.boxplot(x=df['video_like_count'])\n",
    "plt.xlabel(xlabel=\"Video likes\")\n",
    "plt.show()\n"
   ]
  },
  {
   "cell_type": "code",
   "execution_count": 28,
   "metadata": {},
   "outputs": [
    {
     "data": {
      "image/png": "[encoded data removed]",
      "text/plain": [
       "<Figure size 1000x600 with 1 Axes>"
      ]
     },
     "metadata": {},
     "output_type": "display_data"
    }
   ],
   "source": [
    "# histogram für die Verteilung der likes\n",
    "\n",
    "plt.figure(figsize=(10, 6))\n",
    "plt.title(\"Verteilung der Likes\")\n",
    "sns.histplot(df['video_like_count'], bins=range(0,(7*10**5+1),10**5))\n",
    "plt.xlabel(xlabel=\"Likes\")\n",
    "plt.ylabel(ylabel=\"Anzahl der Videos\")\n",
    "plt.show()\n",
    "\n",
    "# Ähnlich wie bei der Anzahl der Aufrufe gibt es weitaus mehr Videos mit weniger als 100.000 Likes als Videos mit mehr. \n",
    "# In diesem Fall ist jedoch eher eine Verjüngung zu erkennen, \n",
    "# da die Daten nach rechts verzerrt sind und viele Videos am oberen Ende der Like-Anzahl liegen."
   ]
  },
  {
   "cell_type": "code",
   "execution_count": 29,
   "metadata": {},
   "outputs": [
    {
     "data": {
      "image/png": "[encoded data removed]",
      "text/plain": [
       "<Figure size 1000x100 with 1 Axes>"
      ]
     },
     "metadata": {},
     "output_type": "display_data"
    }
   ],
   "source": [
    "# boxplot für die Verteilung von `video_comment_count`\n",
    "\n",
    "plt.figure(figsize=(10,1))\n",
    "plt.title('Verteilung der Kommentare')\n",
    "sns.boxplot(x=df['video_comment_count'])\n",
    "plt.xlabel(xlabel=\"Anzahl der Kommentare pro Video\")\n",
    "plt.show()"
   ]
  },
  {
   "cell_type": "code",
   "execution_count": 30,
   "metadata": {},
   "outputs": [
    {
     "data": {
      "image/png": "[encoded data removed]",
      "text/plain": [
       "<Figure size 1000x600 with 1 Axes>"
      ]
     },
     "metadata": {},
     "output_type": "display_data"
    }
   ],
   "source": [
    "plt.figure(figsize=(10,6))\n",
    "sns.histplot(df['video_comment_count'], bins=range(0,(3001),100))\n",
    "plt.title('Verteilung der Kommentare')\n",
    "plt.xlabel(xlabel=\"Anzahl der Kommentare pro Video\")\n",
    "plt.ylabel(ylabel=\"Anzahl der Videos\")\n",
    "plt.show()\n",
    "\n",
    "# Auch hier ist die überwiegende Mehrheit der Videos am unteren Ende des Wertebereichs für die Anzahl der Videokommentare gruppiert. \n",
    "# Die meisten Videos haben weniger als 100 Kommentare. \n",
    "# Die Verteilung ist sehr rechtsschief."
   ]
  },
  {
   "cell_type": "code",
   "execution_count": 31,
   "metadata": {},
   "outputs": [
    {
     "data": {
      "image/png": "[encoded data removed]",
      "text/plain": [
       "<Figure size 1000x100 with 1 Axes>"
      ]
     },
     "metadata": {},
     "output_type": "display_data"
    }
   ],
   "source": [
    "# boxplot Verteilung von `video_share_count`\n",
    "\n",
    "plt.figure(figsize=(10,1))\n",
    "plt.title('Video shares')\n",
    "sns.boxplot(x=df['video_share_count'])\n",
    "plt.xlabel(xlabel=\"Anzahl der shares pro Video\")\n",
    "plt.show()"
   ]
  },
  {
   "cell_type": "code",
   "execution_count": 32,
   "metadata": {},
   "outputs": [
    {
     "data": {
      "image/png": "[encoded data removed]",
      "text/plain": [
       "<Figure size 1000x600 with 1 Axes>"
      ]
     },
     "metadata": {},
     "output_type": "display_data"
    }
   ],
   "source": [
    "# histogram Verteilung von `video_share_count`\n",
    "\n",
    "plt.figure(figsize=(10,6))\n",
    "sns.histplot(df['video_share_count'], bins=range(0,(270001),10000))\n",
    "plt.title('Video shares')\n",
    "plt.xlabel(xlabel=\"Anzahl der shares pro Video\")\n",
    "plt.ylabel(ylabel=\"Anzahl der Videos\")\n",
    "plt.show()\n",
    "\n",
    "# Die überwiegende Mehrheit der Videos wurde weniger als 10.000 Mal geteilt. \n",
    "# Die Verteilung ist stark nach rechts verzerrt.\n"
   ]
  },
  {
   "cell_type": "code",
   "execution_count": 33,
   "metadata": {},
   "outputs": [
    {
     "data": {
      "image/png": "[encoded data removed]",
      "text/plain": [
       "<Figure size 1000x100 with 1 Axes>"
      ]
     },
     "metadata": {},
     "output_type": "display_data"
    }
   ],
   "source": [
    "# boxplot für die Verteilung von `video_download_count`\n",
    "\n",
    "plt.figure(figsize=(10,1))\n",
    "plt.title('Downloads')\n",
    "sns.boxplot(x=df['video_download_count'])\n",
    "plt.xlabel(xlabel=\"Anzahl der downloads pro Video\")\n",
    "plt.show()"
   ]
  },
  {
   "cell_type": "code",
   "execution_count": 34,
   "metadata": {},
   "outputs": [
    {
     "data": {
      "image/png": "[encoded data removed]",
      "text/plain": [
       "<Figure size 1000x600 with 1 Axes>"
      ]
     },
     "metadata": {},
     "output_type": "display_data"
    }
   ],
   "source": [
    "# histogram für die Verteilung von `video_download_count`\n",
    "\n",
    "plt.figure(figsize=(10,6))\n",
    "sns.histplot(df['video_download_count'], bins=range(0,(15001),500))\n",
    "plt.title('Downloads')\n",
    "plt.xlabel(xlabel=\"Anzahl der downloads pro Video\")\n",
    "plt.ylabel(ylabel=\"Anzahl der Videos\")\n",
    "plt.show()\n",
    "\n",
    "# Die meisten Videos wurden weniger als 500 Mal heruntergeladen, einige jedoch über 12.000 Mal. \n",
    "# Auch hier sind die Daten stark nach rechts verzerrt."
   ]
  },
  {
   "cell_type": "code",
   "execution_count": null,
   "metadata": {},
   "outputs": [],
   "source": []
  }
 ],
 "metadata": {
  "kernelspec": {
   "display_name": "base",
   "language": "python",
   "name": "python3"
  },
  "language_info": {
   "codemirror_mode": {
    "name": "ipython",
    "version": 3
   },
   "file_extension": ".py",
   "mimetype": "text/x-python",
   "name": "python",
   "nbconvert_exporter": "python",
   "pygments_lexer": "ipython3",
   "version": "3.10.14"
  }
 },
 "nbformat": 4,
 "nbformat_minor": 2
}
